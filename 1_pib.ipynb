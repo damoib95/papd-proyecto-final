{
 "cells": [
  {
   "cell_type": "markdown",
   "metadata": {
    "id": "Wm5aGTMvpUY-"
   },
   "source": [
    "# 1. pib\n",
    "\n",
    "## Variables\n",
    "\n",
    "- consumo_privado\n",
    "- inversiones\n",
    "- gasto_publico\n",
    "- exportaciones\n",
    "- importaciones\n",
    "- variacion\n"
   ]
  },
  {
   "cell_type": "code",
   "execution_count": 9,
   "metadata": {
    "colab": {
     "base_uri": "https://localhost:8080/"
    },
    "executionInfo": {
     "elapsed": 1414,
     "status": "ok",
     "timestamp": 1730862325866,
     "user": {
      "displayName": "Diego Alberto Morales Ibañez",
      "userId": "13208052402867133978"
     },
     "user_tz": 360
    },
    "id": "m3I5xyHcxtWI",
    "outputId": "bdf501de-b594-4468-9b99-2d2359deb120"
   },
   "outputs": [],
   "source": [
    "import os\n",
    "import pandas as pd\n",
    "import numpy as np\n",
    "import matplotlib.pyplot as plt\n",
    "from sklearn.preprocessing import StandardScaler, RobustScaler, MinMaxScaler\n",
    "from sklearn.model_selection import train_test_split\n",
    "from sklearn.metrics import mean_squared_error\n",
    "from statsmodels.tsa.arima.model import ARIMA\n",
    "from sklearn.linear_model import LinearRegression\n",
    "from sklearn.neighbors import KNeighborsRegressor\n",
    "from sklearn.ensemble import RandomForestRegressor\n",
    "import xgboost as xgb\n",
    "from sklearn.model_selection import GridSearchCV\n",
    "import optuna\n",
    "from tensorflow.keras.models import Sequential\n",
    "from tensorflow.keras.layers import Input, Dense\n",
    "from tensorflow.keras.callbacks import EarlyStopping\n",
    "from sklearn.metrics import mean_squared_error\n",
    "from functools import partial\n",
    "import joblib\n",
    "\n",
    "cwd_path = os.getcwd()\n",
    "data_path = os.path.join(cwd_path, 'data')\n",
    "input_path = os.path.join(data_path, 'input')\n",
    "output_path = os.path.join(data_path, 'output')\n",
    "target_var = 'pib'"
   ]
  },
  {
   "cell_type": "markdown",
   "metadata": {},
   "source": [
    "## Importación de datos"
   ]
  },
  {
   "cell_type": "code",
   "execution_count": 2,
   "metadata": {
    "executionInfo": {
     "elapsed": 4225,
     "status": "ok",
     "timestamp": 1730862336006,
     "user": {
      "displayName": "Diego Alberto Morales Ibañez",
      "userId": "13208052402867133978"
     },
     "user_tz": 360
    },
    "id": "j_WsBvkVpYdx"
   },
   "outputs": [],
   "source": [
    "input_files = {'consumo_privado': ['sector_real', 'pib_gasto', 'gasto_consumo_final_hogar_isflsh.csv'],\n",
    "         'inversiones': ['sector_real', 'pib_gasto', 'formacion_bruta_capital_fijo.csv'],\n",
    "          'gasto_publico': ['sector_real', 'pib_gasto', 'gasto_consumo_final_gobierno_central.csv'],\n",
    "         'exportaciones': ['sector_real', 'pib_gasto', 'exportacion_bienes_servicios.csv'],\n",
    "         'importaciones': ['sector_real', 'pib_gasto', 'importaciones_bienes_servicios.csv'],\n",
    "         'variacion' : ['sector_real', 'pib_gasto', 'variacion_existencias.csv'],\n",
    "             'pib': ['sector_real', 'pib', 'pib.csv']}\n",
    "\n",
    "input_list = []\n",
    "for name, path in input_files.items():\n",
    "  file_path = os.path.join(input_path, *path)\n",
    "  df_input = (pd\n",
    "                .read_csv(file_path, sep=',')\n",
    "                .rename(columns={'Fecha': 'fa', 'Valor': name})\n",
    "                .assign(fa = lambda df: pd.to_datetime(df['fa'], dayfirst=True))\n",
    "                .set_index('fa')\n",
    "                )\n",
    "  input_list.append(df_input)\n",
    "\n",
    "df = pd.concat(input_list, axis=1, join='outer')\n",
    "output_filepath = os.path.join(output_path, f'{target_var}_dataset.xlsx')\n",
    "df.to_excel(output_filepath)"
   ]
  },
  {
   "cell_type": "code",
   "execution_count": 3,
   "metadata": {
    "colab": {
     "base_uri": "https://localhost:8080/",
     "height": 648
    },
    "executionInfo": {
     "elapsed": 287,
     "status": "ok",
     "timestamp": 1730862380407,
     "user": {
      "displayName": "Diego Alberto Morales Ibañez",
      "userId": "13208052402867133978"
     },
     "user_tz": 360
    },
    "id": "Rn3J0fyeb-4g",
    "outputId": "f70f050b-c3ea-45ea-8457-0de68b474b9d"
   },
   "outputs": [
    {
     "data": {
      "text/html": [
       "<div>\n",
       "<style scoped>\n",
       "    .dataframe tbody tr th:only-of-type {\n",
       "        vertical-align: middle;\n",
       "    }\n",
       "\n",
       "    .dataframe tbody tr th {\n",
       "        vertical-align: top;\n",
       "    }\n",
       "\n",
       "    .dataframe thead th {\n",
       "        text-align: right;\n",
       "    }\n",
       "</style>\n",
       "<table border=\"1\" class=\"dataframe\">\n",
       "  <thead>\n",
       "    <tr style=\"text-align: right;\">\n",
       "      <th></th>\n",
       "      <th>consumo_privado</th>\n",
       "      <th>inversiones</th>\n",
       "      <th>gasto_publico</th>\n",
       "      <th>exportaciones</th>\n",
       "      <th>importaciones</th>\n",
       "      <th>variacion</th>\n",
       "      <th>pib</th>\n",
       "    </tr>\n",
       "    <tr>\n",
       "      <th>fa</th>\n",
       "      <th></th>\n",
       "      <th></th>\n",
       "      <th></th>\n",
       "      <th></th>\n",
       "      <th></th>\n",
       "      <th></th>\n",
       "      <th></th>\n",
       "    </tr>\n",
       "  </thead>\n",
       "  <tbody>\n",
       "    <tr>\n",
       "      <th>2009-06-30</th>\n",
       "      <td>7645.80</td>\n",
       "      <td>12386.80</td>\n",
       "      <td>66165.10</td>\n",
       "      <td>17180.50</td>\n",
       "      <td>22876.00</td>\n",
       "      <td>-5504.40</td>\n",
       "      <td>74997.80</td>\n",
       "    </tr>\n",
       "    <tr>\n",
       "      <th>2009-09-30</th>\n",
       "      <td>8728.90</td>\n",
       "      <td>11359.10</td>\n",
       "      <td>65711.90</td>\n",
       "      <td>16196.50</td>\n",
       "      <td>25296.90</td>\n",
       "      <td>-31.90</td>\n",
       "      <td>76667.60</td>\n",
       "    </tr>\n",
       "    <tr>\n",
       "      <th>2009-12-31</th>\n",
       "      <td>9664.60</td>\n",
       "      <td>12432.40</td>\n",
       "      <td>67381.60</td>\n",
       "      <td>18393.60</td>\n",
       "      <td>27584.60</td>\n",
       "      <td>-220.70</td>\n",
       "      <td>80066.90</td>\n",
       "    </tr>\n",
       "    <tr>\n",
       "      <th>2010-03-31</th>\n",
       "      <td>7904.40</td>\n",
       "      <td>12062.50</td>\n",
       "      <td>69048.80</td>\n",
       "      <td>20262.00</td>\n",
       "      <td>26222.30</td>\n",
       "      <td>708.70</td>\n",
       "      <td>83764.10</td>\n",
       "    </tr>\n",
       "    <tr>\n",
       "      <th>2010-06-30</th>\n",
       "      <td>8587.80</td>\n",
       "      <td>12647.00</td>\n",
       "      <td>70970.00</td>\n",
       "      <td>20276.90</td>\n",
       "      <td>28017.00</td>\n",
       "      <td>-3518.40</td>\n",
       "      <td>80946.30</td>\n",
       "    </tr>\n",
       "    <tr>\n",
       "      <th>...</th>\n",
       "      <td>...</td>\n",
       "      <td>...</td>\n",
       "      <td>...</td>\n",
       "      <td>...</td>\n",
       "      <td>...</td>\n",
       "      <td>...</td>\n",
       "      <td>...</td>\n",
       "    </tr>\n",
       "    <tr>\n",
       "      <th>2023-06-30</th>\n",
       "      <td>23129.23</td>\n",
       "      <td>31663.98</td>\n",
       "      <td>175761.43</td>\n",
       "      <td>34678.17</td>\n",
       "      <td>64363.65</td>\n",
       "      <td>-21.74</td>\n",
       "      <td>200847.42</td>\n",
       "    </tr>\n",
       "    <tr>\n",
       "      <th>2023-09-30</th>\n",
       "      <td>23189.90</td>\n",
       "      <td>34766.21</td>\n",
       "      <td>179216.82</td>\n",
       "      <td>33039.01</td>\n",
       "      <td>66146.42</td>\n",
       "      <td>-367.91</td>\n",
       "      <td>203697.61</td>\n",
       "    </tr>\n",
       "    <tr>\n",
       "      <th>2023-12-31</th>\n",
       "      <td>24929.79</td>\n",
       "      <td>34067.36</td>\n",
       "      <td>187342.98</td>\n",
       "      <td>31587.40</td>\n",
       "      <td>66394.61</td>\n",
       "      <td>1163.69</td>\n",
       "      <td>212696.62</td>\n",
       "    </tr>\n",
       "    <tr>\n",
       "      <th>2024-03-31</th>\n",
       "      <td>20670.85</td>\n",
       "      <td>32898.42</td>\n",
       "      <td>186251.67</td>\n",
       "      <td>34838.92</td>\n",
       "      <td>66138.43</td>\n",
       "      <td>6524.68</td>\n",
       "      <td>215046.12</td>\n",
       "    </tr>\n",
       "    <tr>\n",
       "      <th>2024-06-30</th>\n",
       "      <td>21631.61</td>\n",
       "      <td>33643.20</td>\n",
       "      <td>190042.81</td>\n",
       "      <td>36378.46</td>\n",
       "      <td>69394.15</td>\n",
       "      <td>1707.40</td>\n",
       "      <td>214009.32</td>\n",
       "    </tr>\n",
       "  </tbody>\n",
       "</table>\n",
       "<p>61 rows × 7 columns</p>\n",
       "</div>"
      ],
      "text/plain": [
       "            consumo_privado  inversiones  gasto_publico  exportaciones  \\\n",
       "fa                                                                       \n",
       "2009-06-30          7645.80     12386.80       66165.10       17180.50   \n",
       "2009-09-30          8728.90     11359.10       65711.90       16196.50   \n",
       "2009-12-31          9664.60     12432.40       67381.60       18393.60   \n",
       "2010-03-31          7904.40     12062.50       69048.80       20262.00   \n",
       "2010-06-30          8587.80     12647.00       70970.00       20276.90   \n",
       "...                     ...          ...            ...            ...   \n",
       "2023-06-30         23129.23     31663.98      175761.43       34678.17   \n",
       "2023-09-30         23189.90     34766.21      179216.82       33039.01   \n",
       "2023-12-31         24929.79     34067.36      187342.98       31587.40   \n",
       "2024-03-31         20670.85     32898.42      186251.67       34838.92   \n",
       "2024-06-30         21631.61     33643.20      190042.81       36378.46   \n",
       "\n",
       "            importaciones  variacion        pib  \n",
       "fa                                               \n",
       "2009-06-30       22876.00   -5504.40   74997.80  \n",
       "2009-09-30       25296.90     -31.90   76667.60  \n",
       "2009-12-31       27584.60    -220.70   80066.90  \n",
       "2010-03-31       26222.30     708.70   83764.10  \n",
       "2010-06-30       28017.00   -3518.40   80946.30  \n",
       "...                   ...        ...        ...  \n",
       "2023-06-30       64363.65     -21.74  200847.42  \n",
       "2023-09-30       66146.42    -367.91  203697.61  \n",
       "2023-12-31       66394.61    1163.69  212696.62  \n",
       "2024-03-31       66138.43    6524.68  215046.12  \n",
       "2024-06-30       69394.15    1707.40  214009.32  \n",
       "\n",
       "[61 rows x 7 columns]"
      ]
     },
     "execution_count": 3,
     "metadata": {},
     "output_type": "execute_result"
    }
   ],
   "source": [
    "df"
   ]
  },
  {
   "cell_type": "markdown",
   "metadata": {
    "id": "wvi02qwhziG0"
   },
   "source": [
    "## Procesamiento"
   ]
  },
  {
   "cell_type": "code",
   "execution_count": 4,
   "metadata": {
    "executionInfo": {
     "elapsed": 246,
     "status": "ok",
     "timestamp": 1730863050969,
     "user": {
      "displayName": "Diego Alberto Morales Ibañez",
      "userId": "13208052402867133978"
     },
     "user_tz": 360
    },
    "id": "m8cASV9BbpH1"
   },
   "outputs": [],
   "source": [
    "def data_processing(df, target_var, t_samples, keep_all):\n",
    "    df_shifted = df[[target_var]].copy()\n",
    "    for n in range(1, t_samples + 1):\n",
    "        for col in df.columns:\n",
    "            df_shifted[f'{col}_t_{n}'] = df[col].shift(n)\n",
    "    df_shifted = df_shifted.dropna()\n",
    "\n",
    "    for col in df.columns:\n",
    "        df_shifted[f'{col}_prom_{t_samples}'] = df_shifted[[f'{col}_t_{i}' for i in range(1, t_samples + 1)]].mean(axis=1)\n",
    "        df_shifted[f'{col}_desv_{t_samples}'] = df_shifted[[f'{col}_t_{i}' for i in range(1, t_samples + 1)]].std(axis=1)\n",
    "        df_shifted[f'{col}_min_{t_samples}'] = df_shifted[[f'{col}_t_{i}' for i in range(1, t_samples + 1)]].min(axis=1)\n",
    "        df_shifted[f'{col}_max_{t_samples}'] = df_shifted[[f'{col}_t_{i}' for i in range(1, t_samples + 1)]].max(axis=1)\n",
    "        df_shifted[f'{col}_sum_{t_samples}'] = df_shifted[[f'{col}_t_{i}' for i in range(1, t_samples + 1)]].sum(axis=1)\n",
    "\n",
    "    if not keep_all:\n",
    "        columns_to_keep = [target_var] + [f'{col}_t_{1}' for col in df.columns] + \\\n",
    "                          [f'{col}_{agg}_{t_samples}' for col in df.columns for agg in ['prom', 'desv', 'min', 'max', 'sum']]\n",
    "        df_shifted = df_shifted[columns_to_keep]\n",
    "\n",
    "    return df_shifted\n",
    "\n",
    "df_shifted = data_processing(df, target_var, 4, False)\n",
    "\n",
    "X = df_shifted.drop(columns=[target_var])\n",
    "y = df_shifted[target_var]\n",
    "\n",
    "X_train, X_test, y_train, y_test = train_test_split(X, y, test_size=0.2, random_state=42, shuffle=False)"
   ]
  },
  {
   "cell_type": "markdown",
   "metadata": {},
   "source": [
    "## Entrenamiento"
   ]
  },
  {
   "cell_type": "code",
   "execution_count": 5,
   "metadata": {},
   "outputs": [],
   "source": [
    "def arquitectura_ann(cant_capas, cant_neurons, input_dim):\n",
    "    model = Sequential([Input(shape=(input_dim,))])\n",
    "    for _ in range(cant_capas):\n",
    "        model.add(Dense(cant_neurons, activation='relu'))\n",
    "    model.add(Dense(1))\n",
    "    model.compile(optimizer='adam', loss='mse')\n",
    "    return model\n",
    "\n",
    "def optimizar_ann(trial, X_train, y_train, X_test, y_test):\n",
    "    cant_capas = trial.suggest_int('cant_capas', 2, 5)\n",
    "    cant_neurons = trial.suggest_int('cant_neurons', 50, 100)\n",
    "    batch_size = trial.suggest_categorical('batch_size', [16, 32, 64, 128])\n",
    "\n",
    "    model = arquitectura_ann(cant_capas, cant_neurons, X_train.shape[1])\n",
    "    early_stopping = EarlyStopping(monitor='val_loss', patience=5, restore_best_weights=True)\n",
    "    history = model.fit(\n",
    "        X_train, y_train, \n",
    "        validation_data=(X_test, y_test),\n",
    "        epochs=100, batch_size=batch_size, verbose=0, callbacks=[early_stopping]\n",
    "    )\n",
    "    return min(history.history['val_loss'])"
   ]
  },
  {
   "cell_type": "code",
   "execution_count": 6,
   "metadata": {
    "colab": {
     "base_uri": "https://localhost:8080/"
    },
    "executionInfo": {
     "elapsed": 17224,
     "status": "ok",
     "timestamp": 1730866814305,
     "user": {
      "displayName": "Diego Alberto Morales Ibañez",
      "userId": "13208052402867133978"
     },
     "user_tz": 360
    },
    "id": "BNYnYkq3gdtm",
    "outputId": "c15db2f6-577e-4a81-a520-1644cdc833c0"
   },
   "outputs": [
    {
     "name": "stderr",
     "output_type": "stream",
     "text": [
      "/Users/damoib/anaconda3/lib/python3.11/site-packages/statsmodels/base/model.py:607: ConvergenceWarning: Maximum Likelihood optimization failed to converge. Check mle_retvals\n",
      "  warnings.warn(\"Maximum Likelihood optimization failed to \"\n"
     ]
    },
    {
     "name": "stdout",
     "output_type": "stream",
     "text": [
      "Fitting 5 folds for each of 8 candidates, totalling 40 fits\n",
      "KNN Best Parameters: {'n_neighbors': 3, 'weights': 'distance'}\n",
      "Fitting 5 folds for each of 27 candidates, totalling 135 fits\n"
     ]
    },
    {
     "name": "stderr",
     "output_type": "stream",
     "text": [
      "[I 2024-11-18 19:31:03,723] A new study created in memory with name: no-name-1b0a02a4-636d-4692-8184-3eddb60667ac\n"
     ]
    },
    {
     "name": "stdout",
     "output_type": "stream",
     "text": [
      "Random Forest Best Parameters: {'max_depth': 10, 'min_samples_split': 2, 'n_estimators': 100}\n"
     ]
    },
    {
     "name": "stderr",
     "output_type": "stream",
     "text": [
      "2024-11-18 19:31:03.726820: I metal_plugin/src/device/metal_device.cc:1154] Metal device set to: Apple M3 Pro\n",
      "2024-11-18 19:31:03.726835: I metal_plugin/src/device/metal_device.cc:296] systemMemory: 18.00 GB\n",
      "2024-11-18 19:31:03.726842: I metal_plugin/src/device/metal_device.cc:313] maxCacheSize: 6.00 GB\n",
      "2024-11-18 19:31:03.726855: I tensorflow/core/common_runtime/pluggable_device/pluggable_device_factory.cc:305] Could not identify NUMA node of platform GPU ID 0, defaulting to 0. Your kernel may not have been built with NUMA support.\n",
      "2024-11-18 19:31:03.726864: I tensorflow/core/common_runtime/pluggable_device/pluggable_device_factory.cc:271] Created TensorFlow device (/job:localhost/replica:0/task:0/device:GPU:0 with 0 MB memory) -> physical PluggableDevice (device: 0, name: METAL, pci bus id: <undefined>)\n",
      "2024-11-18 19:31:04.115010: I tensorflow/core/grappler/optimizers/custom_graph_optimizer_registry.cc:117] Plugin optimizer for device_type GPU is enabled.\n",
      "2024-11-18 19:31:04.117215: E tensorflow/core/grappler/optimizers/meta_optimizer.cc:961] PluggableGraphOptimizer failed: INVALID_ARGUMENT: Failed to deserialize the `graph_buf`.\n",
      "[I 2024-11-18 19:31:05,023] Trial 0 finished with value: 18474454.0 and parameters: {'cant_capas': 3, 'cant_neurons': 53, 'batch_size': 128}. Best is trial 0 with value: 18474454.0.\n",
      "[I 2024-11-18 19:31:06,343] Trial 1 finished with value: 9596907.0 and parameters: {'cant_capas': 4, 'cant_neurons': 100, 'batch_size': 128}. Best is trial 1 with value: 9596907.0.\n",
      "[I 2024-11-18 19:31:08,073] Trial 2 finished with value: 15010260.0 and parameters: {'cant_capas': 4, 'cant_neurons': 89, 'batch_size': 16}. Best is trial 1 with value: 9596907.0.\n",
      "[I 2024-11-18 19:31:08,953] Trial 3 finished with value: 51467408.0 and parameters: {'cant_capas': 2, 'cant_neurons': 62, 'batch_size': 128}. Best is trial 1 with value: 9596907.0.\n",
      "[I 2024-11-18 19:31:10,109] Trial 4 finished with value: 44248484.0 and parameters: {'cant_capas': 4, 'cant_neurons': 94, 'batch_size': 128}. Best is trial 1 with value: 9596907.0.\n",
      "[I 2024-11-18 19:31:11,365] Trial 5 finished with value: 13970107.0 and parameters: {'cant_capas': 2, 'cant_neurons': 76, 'batch_size': 64}. Best is trial 1 with value: 9596907.0.\n",
      "[I 2024-11-18 19:31:12,586] Trial 6 finished with value: 20528054.0 and parameters: {'cant_capas': 3, 'cant_neurons': 90, 'batch_size': 16}. Best is trial 1 with value: 9596907.0.\n",
      "[I 2024-11-18 19:31:13,942] Trial 7 finished with value: 92993856.0 and parameters: {'cant_capas': 5, 'cant_neurons': 97, 'batch_size': 64}. Best is trial 1 with value: 9596907.0.\n",
      "[I 2024-11-18 19:31:15,132] Trial 8 finished with value: 9849321.0 and parameters: {'cant_capas': 2, 'cant_neurons': 75, 'batch_size': 16}. Best is trial 1 with value: 9596907.0.\n",
      "[I 2024-11-18 19:31:16,623] Trial 9 finished with value: 26555342.0 and parameters: {'cant_capas': 5, 'cant_neurons': 96, 'batch_size': 16}. Best is trial 1 with value: 9596907.0.\n",
      "[I 2024-11-18 19:31:18,357] Trial 10 finished with value: 88089480.0 and parameters: {'cant_capas': 4, 'cant_neurons': 79, 'batch_size': 32}. Best is trial 1 with value: 9596907.0.\n",
      "[I 2024-11-18 19:31:19,587] Trial 11 finished with value: 13937963.0 and parameters: {'cant_capas': 3, 'cant_neurons': 67, 'batch_size': 32}. Best is trial 1 with value: 9596907.0.\n",
      "[I 2024-11-18 19:31:20,637] Trial 12 finished with value: 68950584.0 and parameters: {'cant_capas': 2, 'cant_neurons': 83, 'batch_size': 128}. Best is trial 1 with value: 9596907.0.\n",
      "[I 2024-11-18 19:31:23,028] Trial 13 finished with value: 13975420.0 and parameters: {'cant_capas': 4, 'cant_neurons': 66, 'batch_size': 16}. Best is trial 1 with value: 9596907.0.\n",
      "[I 2024-11-18 19:31:24,348] Trial 14 finished with value: 15815960.0 and parameters: {'cant_capas': 3, 'cant_neurons': 71, 'batch_size': 16}. Best is trial 1 with value: 9596907.0.\n",
      "[I 2024-11-18 19:31:25,877] Trial 15 finished with value: 28498262.0 and parameters: {'cant_capas': 5, 'cant_neurons': 85, 'batch_size': 128}. Best is trial 1 with value: 9596907.0.\n",
      "[I 2024-11-18 19:31:27,186] Trial 16 finished with value: 74859384.0 and parameters: {'cant_capas': 2, 'cant_neurons': 59, 'batch_size': 64}. Best is trial 1 with value: 9596907.0.\n",
      "[I 2024-11-18 19:31:28,286] Trial 17 finished with value: 256214800.0 and parameters: {'cant_capas': 3, 'cant_neurons': 100, 'batch_size': 32}. Best is trial 1 with value: 9596907.0.\n",
      "[I 2024-11-18 19:31:29,521] Trial 18 finished with value: 84628808.0 and parameters: {'cant_capas': 4, 'cant_neurons': 80, 'batch_size': 128}. Best is trial 1 with value: 9596907.0.\n",
      "[I 2024-11-18 19:31:31,409] Trial 19 finished with value: 28181718.0 and parameters: {'cant_capas': 5, 'cant_neurons': 72, 'batch_size': 16}. Best is trial 1 with value: 9596907.0.\n",
      "[I 2024-11-18 19:31:32,319] Trial 20 finished with value: 17007566.0 and parameters: {'cant_capas': 2, 'cant_neurons': 50, 'batch_size': 128}. Best is trial 1 with value: 9596907.0.\n",
      "[I 2024-11-18 19:31:33,435] Trial 21 finished with value: 9265841.0 and parameters: {'cant_capas': 3, 'cant_neurons': 67, 'batch_size': 32}. Best is trial 21 with value: 9265841.0.\n",
      "[I 2024-11-18 19:31:34,592] Trial 22 finished with value: 48875200.0 and parameters: {'cant_capas': 3, 'cant_neurons': 74, 'batch_size': 32}. Best is trial 21 with value: 9265841.0.\n",
      "[I 2024-11-18 19:31:36,419] Trial 23 finished with value: 19003522.0 and parameters: {'cant_capas': 4, 'cant_neurons': 68, 'batch_size': 32}. Best is trial 21 with value: 9265841.0.\n",
      "[I 2024-11-18 19:31:37,383] Trial 24 finished with value: 191165376.0 and parameters: {'cant_capas': 2, 'cant_neurons': 58, 'batch_size': 32}. Best is trial 21 with value: 9265841.0.\n",
      "[I 2024-11-18 19:31:38,513] Trial 25 finished with value: 514148576.0 and parameters: {'cant_capas': 3, 'cant_neurons': 62, 'batch_size': 32}. Best is trial 21 with value: 9265841.0.\n",
      "[I 2024-11-18 19:31:40,195] Trial 26 finished with value: 41435760.0 and parameters: {'cant_capas': 4, 'cant_neurons': 87, 'batch_size': 16}. Best is trial 21 with value: 9265841.0.\n",
      "[I 2024-11-18 19:31:41,231] Trial 27 finished with value: 133319768.0 and parameters: {'cant_capas': 3, 'cant_neurons': 77, 'batch_size': 64}. Best is trial 21 with value: 9265841.0.\n",
      "[I 2024-11-18 19:31:42,141] Trial 28 finished with value: 1019716800.0 and parameters: {'cant_capas': 2, 'cant_neurons': 82, 'batch_size': 32}. Best is trial 21 with value: 9265841.0.\n",
      "[I 2024-11-18 19:31:43,365] Trial 29 finished with value: 54856620.0 and parameters: {'cant_capas': 3, 'cant_neurons': 56, 'batch_size': 128}. Best is trial 21 with value: 9265841.0.\n",
      "[I 2024-11-18 19:31:45,897] Trial 30 finished with value: 11116065.0 and parameters: {'cant_capas': 4, 'cant_neurons': 70, 'batch_size': 16}. Best is trial 21 with value: 9265841.0.\n",
      "[I 2024-11-18 19:31:47,408] Trial 31 finished with value: 34567184.0 and parameters: {'cant_capas': 4, 'cant_neurons': 70, 'batch_size': 16}. Best is trial 21 with value: 9265841.0.\n",
      "[I 2024-11-18 19:31:49,068] Trial 32 finished with value: 19018614.0 and parameters: {'cant_capas': 4, 'cant_neurons': 64, 'batch_size': 16}. Best is trial 21 with value: 9265841.0.\n",
      "[I 2024-11-18 19:31:51,503] Trial 33 finished with value: 13957763.0 and parameters: {'cant_capas': 4, 'cant_neurons': 74, 'batch_size': 16}. Best is trial 21 with value: 9265841.0.\n",
      "[I 2024-11-18 19:31:53,119] Trial 34 finished with value: 17449074.0 and parameters: {'cant_capas': 5, 'cant_neurons': 69, 'batch_size': 16}. Best is trial 21 with value: 9265841.0.\n",
      "[I 2024-11-18 19:31:54,324] Trial 35 finished with value: 304841024.0 and parameters: {'cant_capas': 4, 'cant_neurons': 90, 'batch_size': 128}. Best is trial 21 with value: 9265841.0.\n",
      "[I 2024-11-18 19:31:55,610] Trial 36 finished with value: 14066301.0 and parameters: {'cant_capas': 2, 'cant_neurons': 64, 'batch_size': 16}. Best is trial 21 with value: 9265841.0.\n",
      "[I 2024-11-18 19:31:57,343] Trial 37 finished with value: 17756394.0 and parameters: {'cant_capas': 4, 'cant_neurons': 73, 'batch_size': 128}. Best is trial 21 with value: 9265841.0.\n",
      "[I 2024-11-18 19:31:58,398] Trial 38 finished with value: 11997279.0 and parameters: {'cant_capas': 3, 'cant_neurons': 77, 'batch_size': 64}. Best is trial 21 with value: 9265841.0.\n",
      "[I 2024-11-18 19:31:59,868] Trial 39 finished with value: 17050654.0 and parameters: {'cant_capas': 4, 'cant_neurons': 93, 'batch_size': 16}. Best is trial 21 with value: 9265841.0.\n",
      "[I 2024-11-18 19:32:01,541] Trial 40 finished with value: 8510337.0 and parameters: {'cant_capas': 3, 'cant_neurons': 79, 'batch_size': 16}. Best is trial 40 with value: 8510337.0.\n",
      "[I 2024-11-18 19:32:03,261] Trial 41 finished with value: 12021045.0 and parameters: {'cant_capas': 3, 'cant_neurons': 79, 'batch_size': 16}. Best is trial 40 with value: 8510337.0.\n",
      "2024-11-18 19:32:04.269763: E tensorflow/core/grappler/optimizers/meta_optimizer.cc:961] PluggableGraphOptimizer failed: INVALID_ARGUMENT: Failed to deserialize the `graph_buf`.\n",
      "[I 2024-11-18 19:32:05,225] Trial 42 finished with value: 33347878.0 and parameters: {'cant_capas': 3, 'cant_neurons': 65, 'batch_size': 16}. Best is trial 40 with value: 8510337.0.\n",
      "[I 2024-11-18 19:32:06,365] Trial 43 finished with value: 26480454.0 and parameters: {'cant_capas': 2, 'cant_neurons': 60, 'batch_size': 16}. Best is trial 40 with value: 8510337.0.\n",
      "[I 2024-11-18 19:32:07,809] Trial 44 finished with value: 14814593.0 and parameters: {'cant_capas': 3, 'cant_neurons': 76, 'batch_size': 16}. Best is trial 40 with value: 8510337.0.\n",
      "[I 2024-11-18 19:32:08,967] Trial 45 finished with value: 114224552.0 and parameters: {'cant_capas': 4, 'cant_neurons': 100, 'batch_size': 128}. Best is trial 40 with value: 8510337.0.\n",
      "[I 2024-11-18 19:32:10,055] Trial 46 finished with value: 440113504.0 and parameters: {'cant_capas': 3, 'cant_neurons': 71, 'batch_size': 32}. Best is trial 40 with value: 8510337.0.\n",
      "[I 2024-11-18 19:32:12,126] Trial 47 finished with value: 29492730.0 and parameters: {'cant_capas': 4, 'cant_neurons': 95, 'batch_size': 16}. Best is trial 40 with value: 8510337.0.\n",
      "[I 2024-11-18 19:32:13,564] Trial 48 finished with value: 12051632.0 and parameters: {'cant_capas': 5, 'cant_neurons': 82, 'batch_size': 64}. Best is trial 40 with value: 8510337.0.\n",
      "[I 2024-11-18 19:32:14,547] Trial 49 finished with value: 17529558.0 and parameters: {'cant_capas': 2, 'cant_neurons': 92, 'batch_size': 16}. Best is trial 40 with value: 8510337.0.\n"
     ]
    },
    {
     "name": "stdout",
     "output_type": "stream",
     "text": [
      "ANN Best Parameters: {'cant_capas': 3, 'cant_neurons': 79, 'batch_size': 16}\n",
      "Epoch 1/100\n",
      "\u001b[1m3/3\u001b[0m \u001b[32m━━━━━━━━━━━━━━━━━━━━\u001b[0m\u001b[37m\u001b[0m \u001b[1m1s\u001b[0m 71ms/step - loss: 12846171136.0000 - val_loss: 5758413312.0000\n",
      "Epoch 2/100\n",
      "\u001b[1m3/3\u001b[0m \u001b[32m━━━━━━━━━━━━━━━━━━━━\u001b[0m\u001b[37m\u001b[0m \u001b[1m0s\u001b[0m 13ms/step - loss: 1346851584.0000 - val_loss: 406043488.0000\n",
      "Epoch 3/100\n",
      "\u001b[1m3/3\u001b[0m \u001b[32m━━━━━━━━━━━━━━━━━━━━\u001b[0m\u001b[37m\u001b[0m \u001b[1m0s\u001b[0m 12ms/step - loss: 537085312.0000 - val_loss: 3561890816.0000\n",
      "Epoch 4/100\n",
      "\u001b[1m3/3\u001b[0m \u001b[32m━━━━━━━━━━━━━━━━━━━━\u001b[0m\u001b[37m\u001b[0m \u001b[1m0s\u001b[0m 12ms/step - loss: 1506045056.0000 - val_loss: 1348764288.0000\n",
      "Epoch 5/100\n",
      "\u001b[1m3/3\u001b[0m \u001b[32m━━━━━━━━━━━━━━━━━━━━\u001b[0m\u001b[37m\u001b[0m \u001b[1m0s\u001b[0m 13ms/step - loss: 425070752.0000 - val_loss: 67854016.0000\n",
      "Epoch 6/100\n",
      "\u001b[1m3/3\u001b[0m \u001b[32m━━━━━━━━━━━━━━━━━━━━\u001b[0m\u001b[37m\u001b[0m \u001b[1m0s\u001b[0m 12ms/step - loss: 98304496.0000 - val_loss: 1293896320.0000\n",
      "Epoch 7/100\n",
      "\u001b[1m3/3\u001b[0m \u001b[32m━━━━━━━━━━━━━━━━━━━━\u001b[0m\u001b[37m\u001b[0m \u001b[1m0s\u001b[0m 11ms/step - loss: 444939648.0000 - val_loss: 1006101952.0000\n",
      "Epoch 8/100\n",
      "\u001b[1m3/3\u001b[0m \u001b[32m━━━━━━━━━━━━━━━━━━━━\u001b[0m\u001b[37m\u001b[0m \u001b[1m0s\u001b[0m 12ms/step - loss: 260418624.0000 - val_loss: 65836900.0000\n",
      "Epoch 9/100\n",
      "\u001b[1m3/3\u001b[0m \u001b[32m━━━━━━━━━━━━━━━━━━━━\u001b[0m\u001b[37m\u001b[0m \u001b[1m0s\u001b[0m 11ms/step - loss: 34799964.0000 - val_loss: 174699120.0000\n",
      "Epoch 10/100\n",
      "\u001b[1m3/3\u001b[0m \u001b[32m━━━━━━━━━━━━━━━━━━━━\u001b[0m\u001b[37m\u001b[0m \u001b[1m0s\u001b[0m 11ms/step - loss: 158663488.0000 - val_loss: 220799952.0000\n",
      "Epoch 11/100\n",
      "\u001b[1m3/3\u001b[0m \u001b[32m━━━━━━━━━━━━━━━━━━━━\u001b[0m\u001b[37m\u001b[0m \u001b[1m0s\u001b[0m 12ms/step - loss: 133840880.0000 - val_loss: 13732216.0000\n",
      "Epoch 12/100\n",
      "\u001b[1m3/3\u001b[0m \u001b[32m━━━━━━━━━━━━━━━━━━━━\u001b[0m\u001b[37m\u001b[0m \u001b[1m0s\u001b[0m 11ms/step - loss: 40676576.0000 - val_loss: 166510416.0000\n",
      "Epoch 13/100\n",
      "\u001b[1m3/3\u001b[0m \u001b[32m━━━━━━━━━━━━━━━━━━━━\u001b[0m\u001b[37m\u001b[0m \u001b[1m0s\u001b[0m 12ms/step - loss: 55872544.0000 - val_loss: 242737456.0000\n",
      "Epoch 14/100\n",
      "\u001b[1m3/3\u001b[0m \u001b[32m━━━━━━━━━━━━━━━━━━━━\u001b[0m\u001b[37m\u001b[0m \u001b[1m0s\u001b[0m 11ms/step - loss: 55873248.0000 - val_loss: 83608792.0000\n",
      "Epoch 15/100\n",
      "\u001b[1m3/3\u001b[0m \u001b[32m━━━━━━━━━━━━━━━━━━━━\u001b[0m\u001b[37m\u001b[0m \u001b[1m0s\u001b[0m 12ms/step - loss: 25653008.0000 - val_loss: 12126933.0000\n",
      "Epoch 16/100\n",
      "\u001b[1m3/3\u001b[0m \u001b[32m━━━━━━━━━━━━━━━━━━━━\u001b[0m\u001b[37m\u001b[0m \u001b[1m0s\u001b[0m 11ms/step - loss: 31356352.0000 - val_loss: 25433032.0000\n",
      "Epoch 17/100\n",
      "\u001b[1m3/3\u001b[0m \u001b[32m━━━━━━━━━━━━━━━━━━━━\u001b[0m\u001b[37m\u001b[0m \u001b[1m0s\u001b[0m 12ms/step - loss: 33539296.0000 - val_loss: 11488391.0000\n",
      "Epoch 18/100\n",
      "\u001b[1m3/3\u001b[0m \u001b[32m━━━━━━━━━━━━━━━━━━━━\u001b[0m\u001b[37m\u001b[0m \u001b[1m0s\u001b[0m 11ms/step - loss: 27837220.0000 - val_loss: 56013044.0000\n",
      "Epoch 19/100\n",
      "\u001b[1m3/3\u001b[0m \u001b[32m━━━━━━━━━━━━━━━━━━━━\u001b[0m\u001b[37m\u001b[0m \u001b[1m0s\u001b[0m 11ms/step - loss: 27578210.0000 - val_loss: 86657664.0000\n",
      "Epoch 20/100\n",
      "\u001b[1m3/3\u001b[0m \u001b[32m━━━━━━━━━━━━━━━━━━━━\u001b[0m\u001b[37m\u001b[0m \u001b[1m0s\u001b[0m 12ms/step - loss: 29411596.0000 - val_loss: 39293988.0000\n",
      "Epoch 21/100\n",
      "\u001b[1m3/3\u001b[0m \u001b[32m━━━━━━━━━━━━━━━━━━━━\u001b[0m\u001b[37m\u001b[0m \u001b[1m0s\u001b[0m 11ms/step - loss: 22341372.0000 - val_loss: 15317936.0000\n",
      "Epoch 22/100\n",
      "\u001b[1m3/3\u001b[0m \u001b[32m━━━━━━━━━━━━━━━━━━━━\u001b[0m\u001b[37m\u001b[0m \u001b[1m0s\u001b[0m 11ms/step - loss: 16987264.0000 - val_loss: 12686367.0000\n"
     ]
    }
   ],
   "source": [
    "def train_models(X_train, X_test, y_train, y_test):\n",
    "    best_models = {}\n",
    "\n",
    "    model_ar = ARIMA(y_train.asfreq('QE'), order=(1, 0, 0), exog=X_train.asfreq('QE')).fit()\n",
    "    best_models['ar'] = model_ar\n",
    "    model_arima = ARIMA(y_train.asfreq('QE'), order=(1, 0, 1), exog=X_train.asfreq('QE')).fit()\n",
    "    best_models['arima'] = model_arima\n",
    "\n",
    "    model_lr = LinearRegression()\n",
    "    model_lr.fit(X_train, y_train)\n",
    "    best_models['lr'] = model_lr\n",
    "\n",
    "    params_knn = {'n_neighbors': [3, 5, 7, 10], 'weights': ['uniform', 'distance']}\n",
    "    grid_knn = GridSearchCV(KNeighborsRegressor(), params_knn, cv=5, scoring='neg_mean_squared_error', verbose=1)\n",
    "    grid_knn.fit(X_train, y_train)\n",
    "    best_models['knn'] = grid_knn.best_estimator_\n",
    "    print(f\"KNN Best Parameters: {grid_knn.best_params_}\")\n",
    "\n",
    "    params_rf = {\n",
    "        'n_estimators': [100, 200, 300],\n",
    "        'max_depth': [10, 20, 30],\n",
    "        'min_samples_split': [2, 5, 10]\n",
    "    }\n",
    "    grid_rf = GridSearchCV(RandomForestRegressor(), params_rf, cv=5, scoring='neg_mean_squared_error', verbose=1)\n",
    "    grid_rf.fit(X_train, y_train)\n",
    "    best_models['rf'] = grid_rf.best_estimator_\n",
    "    print(f\"Random Forest Best Parameters: {grid_rf.best_params_}\")\n",
    "\n",
    "    model_xgb = xgb.XGBRegressor()\n",
    "    model_xgb.fit(X_train, y_train)\n",
    "    best_models['xgb'] = model_xgb\n",
    "\n",
    "    study = optuna.create_study(direction='minimize')\n",
    "    study.optimize(partial(optimizar_ann, X_train=X_train, y_train=y_train, X_test=X_test, y_test=y_test), n_trials=50)\n",
    "\n",
    "    best_params = study.best_params\n",
    "    print(f\"ANN Best Parameters: {best_params}\")\n",
    "\n",
    "    model_ann = arquitectura_ann(best_params['cant_capas'], best_params['cant_neurons'], X_train.shape[1])\n",
    "    early_stopping = EarlyStopping(monitor='val_loss', patience=5, restore_best_weights=True)\n",
    "    model_ann.fit(\n",
    "        X_train, y_train, \n",
    "        validation_data=(X_test, y_test),\n",
    "        epochs=100, batch_size=best_params['batch_size'], verbose=1, callbacks=[early_stopping]\n",
    "    )\n",
    "\n",
    "    model_ann.compile(optimizer='adam', loss='mse', metrics=['mse'])\n",
    "    model_ann.fit(X_train, y_train, epochs=100, verbose=0)\n",
    "    best_models['ann'] = model_ann\n",
    "\n",
    "    return best_models\n",
    "\n",
    "best_models = train_models(X_train, X_test, y_train, y_test)"
   ]
  },
  {
   "cell_type": "markdown",
   "metadata": {},
   "source": [
    "## Evaluación"
   ]
  },
  {
   "cell_type": "code",
   "execution_count": 10,
   "metadata": {
    "colab": {
     "base_uri": "https://localhost:8080/"
    },
    "executionInfo": {
     "elapsed": 486,
     "status": "ok",
     "timestamp": 1730866840847,
     "user": {
      "displayName": "Diego Alberto Morales Ibañez",
      "userId": "13208052402867133978"
     },
     "user_tz": 360
    },
    "id": "sQjqABQLhIx3",
    "outputId": "86b813a9-80d5-4d51-c5ad-bac56b53fe89"
   },
   "outputs": [
    {
     "name": "stdout",
     "output_type": "stream",
     "text": [
      "ar: mse=922,132,789.75\n",
      "arima: mse=897,089,161.17\n",
      "lr: mse=897,404,738.89\n",
      "knn: mse=2,196,716,408.92\n",
      "rf: mse=1,981,479,722.45\n",
      "xgb: mse=1,583,632,262.62\n",
      "\u001b[1m1/1\u001b[0m \u001b[32m━━━━━━━━━━━━━━━━━━━━\u001b[0m\u001b[37m\u001b[0m \u001b[1m0s\u001b[0m 9ms/step\n",
      "ann: mse=53,168,663.65\n",
      "Mejor modelo: ann\n",
      "Modelo pib exportado exitosamente.\n"
     ]
    }
   ],
   "source": [
    "def evaluate(best_models, X_test, y_test, target_var):\n",
    "    results = {}\n",
    "    for name, model in best_models.items():\n",
    "        if name in ('ar','arima'):\n",
    "            y_pred = model.predict(start=len(y_train), end=len(y_train)+len(y_test)-1, exog=X_test)\n",
    "        else:\n",
    "            y_pred = model.predict(X_test)\n",
    "        mse = mean_squared_error(y_test, y_pred)\n",
    "        results[name] = {'y_pred' : y_pred,\n",
    "                         'mse' : mse}\n",
    "        print(f\"{name}: {mse=:,.2f}\")\n",
    "\n",
    "    best_model_name = min(results, key=lambda x: results[x]['mse'])\n",
    "    best_model = best_models[best_model_name]\n",
    "    print(f\"Mejor modelo: {best_model_name}\")\n",
    "\n",
    "    export_path = os.path.join(output_path, 'models')\n",
    "    with open(os.path.join(export_path ,f\"{target_var}.pkl\"), \"wb\") as f:\n",
    "        joblib.dump(best_model, f)\n",
    "\n",
    "    print(f\"Modelo {target_var} exportado exitosamente.\")\n",
    "    return results\n",
    "results = evaluate(best_models, X_test, y_test, target_var)"
   ]
  },
  {
   "cell_type": "code",
   "execution_count": 8,
   "metadata": {
    "colab": {
     "base_uri": "https://localhost:8080/",
     "height": 434
    },
    "executionInfo": {
     "elapsed": 532,
     "status": "ok",
     "timestamp": 1730866934965,
     "user": {
      "displayName": "Diego Alberto Morales Ibañez",
      "userId": "13208052402867133978"
     },
     "user_tz": 360
    },
    "id": "Zd3CRyoQrlCI",
    "outputId": "9d2e854b-3bfc-4440-c9df-95b26b0f6a7c"
   },
   "outputs": [
    {
     "data": {
      "image/png": "[encoded data removed]",
      "text/plain": [
       "<Figure size 800x400 with 1 Axes>"
      ]
     },
     "metadata": {},
     "output_type": "display_data"
    }
   ],
   "source": [
    "def plot_comparison(results, target_var):\n",
    "    colors = {'ar' : 'brown',\n",
    "              'arima' : 'blue',\n",
    "              'lr' : 'red',\n",
    "              'knn' : 'orange',\n",
    "              'rf' : 'green',\n",
    "              'xgb' : 'purple',\n",
    "              'ann' : 'pink'}\n",
    "    \n",
    "    plt.figure(figsize=(8, 4))\n",
    "    plt.plot(y_test.values, label=\"Valores Reales (y_test)\", color=\"blue\")\n",
    "    \n",
    "    for name, result in results.items():\n",
    "        if name in ('ar', 'arima'):\n",
    "            plt.plot(result['y_pred'].reset_index(drop=True), label=f\"y_pred_{name}\", color=colors[name], linestyle=\"--\")\n",
    "        else:\n",
    "            plt.plot(result['y_pred'], label=f\"y_pred_{name}\", color=colors[name], linestyle=\"--\")\n",
    "\n",
    "    plt.xlabel(\"tiempo\")\n",
    "    plt.ylabel(target_var)\n",
    "    plt.title(f\"Resultados {target_var}\")\n",
    "    plt.legend()\n",
    "    plt.grid()\n",
    "    plt.savefig('image.png', dpi=300)\n",
    "    plt.show()\n",
    "\n",
    "plot_comparison(results, target_var)"
   ]
  },
  {
   "cell_type": "code",
   "execution_count": null,
   "metadata": {
    "id": "uE0pY8mk5uV5"
   },
   "outputs": [],
   "source": []
  }
 ],
 "metadata": {
  "colab": {
   "provenance": []
  },
  "kernelspec": {
   "display_name": "base",
   "language": "python",
   "name": "python3"
  },
  "language_info": {
   "codemirror_mode": {
    "name": "ipython",
    "version": 3
   },
   "file_extension": ".py",
   "mimetype": "text/x-python",
   "name": "python",
   "nbconvert_exporter": "python",
   "pygments_lexer": "ipython3",
   "version": "3.11.5"
  }
 },
 "nbformat": 4,
 "nbformat_minor": 0
}
