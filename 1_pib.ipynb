{
 "cells": [
  {
   "cell_type": "markdown",
   "metadata": {
    "id": "Wm5aGTMvpUY-"
   },
   "source": [
    "# 1. pib\n",
    "\n",
    "## Variables\n",
    "\n",
    "- consumo_privado\n",
    "- inversiones\n",
    "- gasto_publico\n",
    "- exportaciones\n",
    "- importaciones\n",
    "- variacion\n"
   ]
  },
  {
   "cell_type": "code",
   "execution_count": 35,
   "metadata": {
    "colab": {
     "base_uri": "https://localhost:8080/"
    },
    "executionInfo": {
     "elapsed": 1414,
     "status": "ok",
     "timestamp": 1730862325866,
     "user": {
      "displayName": "Diego Alberto Morales Ibañez",
      "userId": "13208052402867133978"
     },
     "user_tz": 360
    },
    "id": "m3I5xyHcxtWI",
    "outputId": "bdf501de-b594-4468-9b99-2d2359deb120"
   },
   "outputs": [],
   "source": [
    "import os\n",
    "import pandas as pd\n",
    "import numpy as np\n",
    "import matplotlib.pyplot as plt\n",
    "from sklearn.preprocessing import StandardScaler\n",
    "from sklearn.model_selection import train_test_split\n",
    "from sklearn.metrics import mean_squared_error\n",
    "from statsmodels.tsa.arima.model import ARIMA\n",
    "from sklearn.linear_model import LinearRegression\n",
    "from sklearn.linear_model import Ridge\n",
    "from sklearn.neighbors import KNeighborsRegressor\n",
    "from sklearn.ensemble import RandomForestRegressor\n",
    "import xgboost as xgb\n",
    "from itertools import product\n",
    "from sklearn.model_selection import GridSearchCV\n",
    "import optuna\n",
    "from tensorflow.keras.models import Sequential\n",
    "from tensorflow.keras.layers import Input, Dense, Dropout\n",
    "from keras.regularizers import l2\n",
    "from tensorflow.keras.callbacks import EarlyStopping\n",
    "from tensorflow.keras.optimizers import Adam\n",
    "from sklearn.metrics import mean_squared_error\n",
    "from functools import partial\n",
    "import joblib\n",
    "import warnings\n",
    "import tensorflow as tf\n",
    "\n",
    "seed_value = 42\n",
    "tf.random.set_seed(seed_value)\n",
    "tf.get_logger().setLevel('ERROR')\n",
    "physical_devices = tf.config.list_physical_devices('GPU')\n",
    "if physical_devices:\n",
    "    tf.config.set_visible_devices([], 'GPU')\n",
    "warnings.filterwarnings(\"ignore\")\n",
    "\n",
    "cwd_path = os.getcwd()\n",
    "data_path = os.path.join(cwd_path, 'data')\n",
    "input_path = os.path.join(data_path, 'input')\n",
    "output_path = os.path.join(data_path, 'output')\n",
    "target_var = 'pib'"
   ]
  },
  {
   "cell_type": "markdown",
   "metadata": {},
   "source": [
    "## Importación de datos"
   ]
  },
  {
   "cell_type": "code",
   "execution_count": 22,
   "metadata": {},
   "outputs": [],
   "source": [
    "metadata_path = os.path.join(cwd_path,'metadatos.xlsx')\n",
    "variables = pd.read_excel(metadata_path)\n",
    "\n",
    "filtro_componente = (variables[target_var]\n",
    "                     .fillna(0)\n",
    "                     .astype(bool))\n",
    "variables_componente = variables[filtro_componente].reset_index(drop=True)\n",
    "\n",
    "input_files = {}\n",
    "for idx, row in variables_componente.iterrows():\n",
    "  input_files[row.variable] = [row.sector, row.subsector, f'{row.variable}.csv']\n",
    "\n",
    "input_list = []\n",
    "for name, path in input_files.items():\n",
    "  file_path = os.path.join(input_path, *path)\n",
    "  df_input = (pd\n",
    "                .read_csv(file_path, sep=',')\n",
    "                .rename(columns={'Fecha': 'fa', 'Valor': name})\n",
    "                .assign(fa = lambda df: pd.to_datetime(df['fa'], dayfirst=True))\n",
    "                .set_index('fa')\n",
    "                )\n",
    "  input_list.append(df_input)\n",
    "\n",
    "df = pd.concat(input_list, axis=1, join='outer')\n",
    "output_filepath = os.path.join(output_path, f'{target_var}_dataset.xlsx')\n",
    "df.to_excel(output_filepath)"
   ]
  },
  {
   "cell_type": "markdown",
   "metadata": {
    "id": "wvi02qwhziG0"
   },
   "source": [
    "## Procesamiento"
   ]
  },
  {
   "cell_type": "code",
   "execution_count": 39,
   "metadata": {
    "executionInfo": {
     "elapsed": 246,
     "status": "ok",
     "timestamp": 1730863050969,
     "user": {
      "displayName": "Diego Alberto Morales Ibañez",
      "userId": "13208052402867133978"
     },
     "user_tz": 360
    },
    "id": "m8cASV9BbpH1"
   },
   "outputs": [],
   "source": [
    "def data_processing(df, target_var, t_samples, keep_all):\n",
    "    df_shifted = df[[target_var]].copy()\n",
    "    for n in range(1, t_samples + 1):\n",
    "        for col in df.columns:\n",
    "            df_shifted[f'{col}_t_{n}'] = df[col].shift(n)\n",
    "    df_shifted = df_shifted.dropna()\n",
    "\n",
    "    for col in df.columns:\n",
    "        df_shifted[f'{col}_prom_{t_samples}'] = df_shifted[[f'{col}_t_{i}' for i in range(1, t_samples + 1)]].mean(axis=1)\n",
    "        df_shifted[f'{col}_desv_{t_samples}'] = df_shifted[[f'{col}_t_{i}' for i in range(1, t_samples + 1)]].std(axis=1)\n",
    "        df_shifted[f'{col}_min_{t_samples}'] = df_shifted[[f'{col}_t_{i}' for i in range(1, t_samples + 1)]].min(axis=1)\n",
    "        df_shifted[f'{col}_max_{t_samples}'] = df_shifted[[f'{col}_t_{i}' for i in range(1, t_samples + 1)]].max(axis=1)\n",
    "        df_shifted[f'{col}_sum_{t_samples}'] = df_shifted[[f'{col}_t_{i}' for i in range(1, t_samples + 1)]].sum(axis=1)\n",
    "\n",
    "    if not keep_all:\n",
    "        columns_to_keep = [target_var] + [f'{col}_t_{1}' for col in df.columns] + \\\n",
    "                          [f'{col}_{agg}_{t_samples}' for col in df.columns for agg in ['prom', 'desv', 'min', 'max', 'sum']]\n",
    "        df_shifted = df_shifted[columns_to_keep]\n",
    "\n",
    "    return df_shifted\n",
    "\n",
    "df_shifted = data_processing(df, target_var, 4, False)\n",
    "\n",
    "X = df_shifted.drop(columns=[target_var])\n",
    "y = df_shifted[target_var]\n",
    "\n",
    "X_train, X_test, y_train, y_test = train_test_split(X, y, test_size=0.2, random_state=42, shuffle=False)\n",
    "\n",
    "# scaler = StandardScaler()\n",
    "# X_train_scaled = scaler.fit_transform(X_train)\n",
    "# X_test_scaled = scaler.transform(X_test)\n",
    "\n",
    "# X_train_scaled = pd.DataFrame(\n",
    "#     X_train_scaled, \n",
    "#     index=X_train.index,\n",
    "#     columns=X_train.columns\n",
    "# )\n",
    "\n",
    "# X_test_scaled = pd.DataFrame(\n",
    "#     X_test_scaled, \n",
    "#     index=X_test.index, \n",
    "#     columns=X_test.columns\n",
    "# )"
   ]
  },
  {
   "cell_type": "markdown",
   "metadata": {},
   "source": [
    "## Entrenamiento"
   ]
  },
  {
   "cell_type": "code",
   "execution_count": 40,
   "metadata": {},
   "outputs": [],
   "source": [
    "def optimize_arima(y_train, X_train, p_values, d_values, q_values):\n",
    "    best_score, best_params, best_model = float(\"inf\"), None, None\n",
    "    \n",
    "    for p, d, q in product(p_values, d_values, q_values):\n",
    "        try:\n",
    "            model = ARIMA(y_train, order=(p, d, q), exog=X_train).fit()\n",
    "            if model.aic < best_score:\n",
    "                best_score, best_params, best_model = model.aic, (p, d, q), model\n",
    "        except Exception as e:\n",
    "            continue\n",
    "\n",
    "    return best_model, best_params\n",
    "\n",
    "def arquitectura_ann(cant_capas, cant_neurons, learning_rate, input_dim):\n",
    "    model = Sequential([Input(shape=(input_dim,))])\n",
    "    for _ in range(cant_capas):\n",
    "        model.add(Dense(cant_neurons, activation='relu', kernel_regularizer=l2(0.01)))\n",
    "        model.add(Dropout(0.2))\n",
    "    model.add(Dense(1))\n",
    "    optimizer = Adam(learning_rate=learning_rate)\n",
    "    model.compile(optimizer=optimizer, loss='mse')\n",
    "    return model\n",
    "\n",
    "def optimizar_ann(trial, X_train, y_train, X_test, y_test):\n",
    "    cant_capas = trial.suggest_int('cant_capas', 2, 5)\n",
    "    cant_neurons = trial.suggest_int('cant_neurons', 50, 100)\n",
    "    batch_size = trial.suggest_categorical('batch_size', [16, 32, 64, 128])\n",
    "    learning_rate = trial.suggest_loguniform('learning_rate', 1e-5, 1e-1)\n",
    "    \n",
    "    model = arquitectura_ann(cant_capas, cant_neurons, learning_rate, X_train.shape[1])\n",
    "    early_stopping = EarlyStopping(monitor='val_loss', patience=3, restore_best_weights=True)\n",
    "    history = model.fit(\n",
    "        X_train, y_train, \n",
    "        validation_data=(X_test, y_test),\n",
    "        epochs=100, batch_size=batch_size, verbose=0, callbacks=[early_stopping]\n",
    "    )\n",
    "    return min(history.history['val_loss'])"
   ]
  },
  {
   "cell_type": "code",
   "execution_count": null,
   "metadata": {
    "colab": {
     "base_uri": "https://localhost:8080/"
    },
    "executionInfo": {
     "elapsed": 17224,
     "status": "ok",
     "timestamp": 1730866814305,
     "user": {
      "displayName": "Diego Alberto Morales Ibañez",
      "userId": "13208052402867133978"
     },
     "user_tz": 360
    },
    "id": "BNYnYkq3gdtm",
    "outputId": "c15db2f6-577e-4a81-a520-1644cdc833c0"
   },
   "outputs": [
    {
     "name": "stdout",
     "output_type": "stream",
     "text": [
      "AR Best Parameters: (1, 0, 0)\n",
      "ARIMA Best Parameters: (7, 2, 4)\n",
      "Ridge Best Parameters: {'alpha': 100}\n",
      "KNN Best Parameters: {'metric': 'manhattan', 'n_neighbors': 3, 'weights': 'distance'}\n",
      "Random Forest Best Parameters: {'max_depth': None, 'max_features': 'sqrt', 'min_samples_split': 2, 'n_estimators': 300, 'random_state': 42}\n"
     ]
    }
   ],
   "source": [
    "def train_models(X_train, X_test, y_train, y_test):\n",
    "    seed_value = 42\n",
    "    best_models = {}\n",
    "\n",
    "    p_values = range(0, 4)\n",
    "    model_ar, best_ar_params = optimize_arima(y_train.asfreq('QE'), X_train.asfreq('QE'), p_values, [0], [0])\n",
    "    best_models['ar'] = model_ar\n",
    "    print(f\"AR Best Parameters: {best_ar_params}\")\n",
    "\n",
    "    p_values = range(0, 8)\n",
    "    d_values = range(0, 3)\n",
    "    q_values = range(0, 5)\n",
    "    model_arima, best_arima_params = optimize_arima(y_train.asfreq('QE'), X_train.asfreq('QE'), p_values, d_values, q_values)\n",
    "    best_models['arima'] = model_arima\n",
    "    print(f\"ARIMA Best Parameters: {best_arima_params}\")\n",
    "\n",
    "    params_ridge = {'alpha': [0.1, 1.0, 10, 100]}\n",
    "    grid_ridge = GridSearchCV(Ridge(), params_ridge, cv=3, scoring='neg_mean_squared_error', n_jobs=-1)\n",
    "    grid_ridge.fit(X_train, y_train)\n",
    "    best_models['lr'] = grid_ridge.best_estimator_\n",
    "    print(f\"LR Ridge Best Parameters: {grid_ridge.best_params_}\")\n",
    "    \n",
    "    params_knn = {'n_neighbors': [3, 5, 7, 10, 15, 20, 25, 30],\n",
    "                  'weights': ['uniform', 'distance'],\n",
    "                  'metric': ['euclidean', 'manhattan', 'minkowski']}\n",
    "    grid_knn = GridSearchCV(KNeighborsRegressor(),\n",
    "                            params_knn, cv=3, scoring='neg_mean_squared_error',\n",
    "                            n_jobs=-1, verbose=0)\n",
    "    grid_knn.fit(X_train, y_train)\n",
    "    best_models['knn'] = grid_knn.best_estimator_\n",
    "    print(f\"KNN Best Parameters: {grid_knn.best_params_}\")\n",
    "\n",
    "    params_rf = {\n",
    "        'n_estimators': [100, 200, 300, 500, 700, 1000],\n",
    "        'max_depth': [None, 10, 20, 30, 40],\n",
    "        'min_samples_split': [2, 5, 10, 20],\n",
    "        'max_features': ['auto', 'sqrt', 'log2'],\n",
    "        'random_state': [seed_value]\n",
    "    }\n",
    "    grid_rf = GridSearchCV(RandomForestRegressor(),\n",
    "                           params_rf, cv=3, scoring='neg_mean_squared_error',\n",
    "                           n_jobs=-1, verbose=0)\n",
    "    grid_rf.fit(X_train, y_train)\n",
    "    best_models['rf'] = grid_rf.best_estimator_\n",
    "    print(f\"Random Forest Best Parameters: {grid_rf.best_params_}\")\n",
    "\n",
    "    params_xgb = {\n",
    "        'learning_rate': [0.01, 0.05, 0.1],\n",
    "        'n_estimators': [100, 200, 300, 500],\n",
    "        'max_depth': [3, 5, 7, 10, 15],\n",
    "        'subsample': [0.6, 0.8, 1.0],\n",
    "        'colsample_bytree': [0.6, 0.8, 1.0],\n",
    "        'gamma': [0, 1],\n",
    "        'random_state': [seed_value]\n",
    "    }\n",
    "    grid_xgb = GridSearchCV(xgb.XGBRegressor(n_jobs=-1),\n",
    "                            params_xgb,\n",
    "                            cv=3, scoring='neg_mean_squared_error',\n",
    "                            verbose=0)\n",
    "    grid_xgb.fit(X_train, y_train)\n",
    "    best_models['xgb'] = grid_xgb.best_estimator_\n",
    "    print(f\"XGBoost Best Parameters: {grid_xgb.best_params_}\")\n",
    "\n",
    "    study = optuna.create_study(direction='minimize')\n",
    "    study.optimize(\n",
    "        partial(optimizar_ann, X_train=X_train, y_train=y_train, X_test=X_test, y_test=y_test),\n",
    "        n_trials=50,\n",
    "        n_jobs=-1,\n",
    "        show_progress_bar=True)\n",
    "\n",
    "    best_params = study.best_params\n",
    "    print(f\"ANN Best Parameters: {best_params}\")\n",
    "\n",
    "    model_ann = arquitectura_ann(best_params['cant_capas'], best_params['cant_neurons'], best_params['learning_rate'], X_train.shape[1])\n",
    "    early_stopping = EarlyStopping(monitor='val_loss', patience=3, restore_best_weights=True)\n",
    "    model_ann.fit(\n",
    "        X_train, y_train, \n",
    "        validation_data=(X_test, y_test),\n",
    "        epochs=100, batch_size=best_params['batch_size'], verbose=0, callbacks=[early_stopping]\n",
    "    )\n",
    "    best_models['ann'] = model_ann\n",
    "\n",
    "    return best_models\n",
    "\n",
    "best_models = train_models(X_train, X_test, y_train, y_test)"
   ]
  },
  {
   "cell_type": "markdown",
   "metadata": {},
   "source": [
    "## Evaluación"
   ]
  },
  {
   "cell_type": "code",
   "execution_count": null,
   "metadata": {
    "colab": {
     "base_uri": "https://localhost:8080/"
    },
    "executionInfo": {
     "elapsed": 486,
     "status": "ok",
     "timestamp": 1730866840847,
     "user": {
      "displayName": "Diego Alberto Morales Ibañez",
      "userId": "13208052402867133978"
     },
     "user_tz": 360
    },
    "id": "sQjqABQLhIx3",
    "outputId": "86b813a9-80d5-4d51-c5ad-bac56b53fe89"
   },
   "outputs": [
    {
     "name": "stdout",
     "output_type": "stream",
     "text": [
      "ar: mse=981,635,702.75\n",
      "arima: mse=7,442,877,957.21\n",
      "lr: mse=29,083,000.85\n",
      "knn: mse=2,306,961,987.52\n",
      "rf: mse=2,065,993,617.72\n",
      "xgb: mse=2,184,182,861.77\n",
      "\u001b[1m1/1\u001b[0m \u001b[32m━━━━━━━━━━━━━━━━━━━━\u001b[0m\u001b[37m\u001b[0m \u001b[1m0s\u001b[0m 57ms/step\n",
      "ann: mse=852,467,237.36\n",
      "Mejor modelo: lr\n",
      "Modelo pib exportado exitosamente.\n"
     ]
    }
   ],
   "source": [
    "def evaluate(best_models, X_test, y_test, target_var):\n",
    "    results = {}\n",
    "    for name, model in best_models.items():\n",
    "        if name in ('ar','arima'):\n",
    "            y_pred = model.predict(start=len(y_train), end=len(y_train)+len(y_test)-1, exog=X_test)\n",
    "        else:\n",
    "            y_pred = model.predict(X_test)\n",
    "        mse = mean_squared_error(y_test, y_pred)\n",
    "        results[name] = {'y_pred' : y_pred,\n",
    "                         'mse' : mse}\n",
    "        print(f\"{name}: {mse=:,.2f}\")\n",
    "\n",
    "    best_model_name = min(results, key=lambda x: results[x]['mse'])\n",
    "    best_model = best_models[best_model_name]\n",
    "    print(f\"Mejor modelo: {best_model_name}\")\n",
    "\n",
    "    export_path = os.path.join(output_path, 'models')\n",
    "    with open(os.path.join(export_path ,f\"{target_var}.pkl\"), \"wb\") as f:\n",
    "        joblib.dump(best_model, f)\n",
    "\n",
    "    print(f\"Modelo {target_var} exportado exitosamente.\")\n",
    "    return results\n",
    "results = evaluate(best_models, X_test, y_test, target_var)"
   ]
  },
  {
   "cell_type": "code",
   "execution_count": null,
   "metadata": {
    "colab": {
     "base_uri": "https://localhost:8080/",
     "height": 434
    },
    "executionInfo": {
     "elapsed": 532,
     "status": "ok",
     "timestamp": 1730866934965,
     "user": {
      "displayName": "Diego Alberto Morales Ibañez",
      "userId": "13208052402867133978"
     },
     "user_tz": 360
    },
    "id": "Zd3CRyoQrlCI",
    "outputId": "9d2e854b-3bfc-4440-c9df-95b26b0f6a7c"
   },
   "outputs": [
    {
     "data": {
      "image/png": "[encoded data removed]",
      "text/plain": [
       "<Figure size 800x400 with 1 Axes>"
      ]
     },
     "metadata": {},
     "output_type": "display_data"
    }
   ],
   "source": [
    "def plot_comparison(results, target_var):\n",
    "    colors = {'ar' : 'brown',\n",
    "              'arima' : 'blue',\n",
    "              'lr' : 'red',\n",
    "              'knn' : 'orange',\n",
    "              'rf' : 'green',\n",
    "              'xgb' : 'purple',\n",
    "              'ann' : 'pink'}\n",
    "    \n",
    "    plt.figure(figsize=(8, 4))\n",
    "    plt.plot(y_test.values, label=\"Valores Reales (y_test)\", color=\"blue\")\n",
    "    \n",
    "    for name, result in results.items():\n",
    "        if name in ('ar', 'arima'):\n",
    "            plt.plot(result['y_pred'].reset_index(drop=True), label=f\"y_pred_{name}\", color=colors[name], linestyle=\"--\")\n",
    "        else:\n",
    "            plt.plot(result['y_pred'], label=f\"y_pred_{name}\", color=colors[name], linestyle=\"--\")\n",
    "\n",
    "    plt.xlabel(\"tiempo\")\n",
    "    plt.ylabel(target_var)\n",
    "    plt.title(f\"Resultados {target_var}\")\n",
    "    plt.legend()\n",
    "    plt.grid()\n",
    "    plt.savefig(f'result_{target_var}.png', dpi=300)\n",
    "    plt.show()\n",
    "\n",
    "plot_comparison(results, target_var)"
   ]
  },
  {
   "cell_type": "code",
   "execution_count": null,
   "metadata": {
    "id": "uE0pY8mk5uV5"
   },
   "outputs": [],
   "source": []
  },
  {
   "cell_type": "code",
   "execution_count": null,
   "metadata": {},
   "outputs": [],
   "source": []
  }
 ],
 "metadata": {
  "colab": {
   "provenance": []
  },
  "kernelspec": {
   "display_name": "base",
   "language": "python",
   "name": "python3"
  },
  "language_info": {
   "codemirror_mode": {
    "name": "ipython",
    "version": 3
   },
   "file_extension": ".py",
   "mimetype": "text/x-python",
   "name": "python",
   "nbconvert_exporter": "python",
   "pygments_lexer": "ipython3",
   "version": "3.11.5"
  }
 },
 "nbformat": 4,
 "nbformat_minor": 0
}
